{
 "cells": [
  {
   "cell_type": "code",
   "execution_count": null,
   "id": "df725b0e-0159-4c0c-87ad-46f854039029",
   "metadata": {},
   "outputs": [],
   "source": [
    "# 0\n",
    "# if you haven't installed wget, uncomment the below command and run this cell\n",
    "#!pip install wget"
   ]
  },
  {
   "cell_type": "code",
   "execution_count": 1,
   "id": "531f1985-c045-485e-b92f-beaca215c168",
   "metadata": {},
   "outputs": [],
   "source": [
    "# 1\n",
    "import requests\n",
    "from bs4 import BeautifulSoup\n",
    "from datetime import datetime as dt\n",
    "import time\n",
    "import wget\n",
    "import os"
   ]
  },
  {
   "cell_type": "code",
   "execution_count": 10,
   "id": "57396ec8-bdb0-4c0c-9136-11eda975646d",
   "metadata": {},
   "outputs": [],
   "source": [
    "# 2\n",
    "####\n",
    "# where are you scraping?\n",
    "base_url = \"https://nces.ed.gov/ipeds/datacenter/\"\n",
    "data_url = \"DataFiles.aspx?\"\n",
    "year_base = \"year=\"\n",
    "years = [\"1995\", \"1996\", \"1997\", \"1998\"]\n",
    "session_id = \"&sid=4f8f293f-df75-42cd-9cc0-ed184270cf17&rtid=7\"  #you might need to change this\n",
    "\n",
    "####\n",
    "# what type of files do you want to save?\n",
    "file_type = [\"zip\",\"csv\"]\n",
    "\n",
    "####\n",
    "# where do you want to save locally?\n",
    "\n",
    "# save_loc is redundant, but a reminder that you should have locally folders that reflect the years, because that's where below is saving to\n",
    "save_loc = years \n",
    "\n",
    "# what kind of prefix do you want on your files\n",
    "save_prefix = \"ipeds_\" "
   ]
  },
  {
   "cell_type": "code",
   "execution_count": 12,
   "id": "3b72c7ed-d851-4422-b00c-2f90bab46ab8",
   "metadata": {
    "scrolled": true
   },
   "outputs": [
    {
     "name": "stdout",
     "output_type": "stream",
     "text": [
      "./1995/ipeds_1995_.html already exists. Did NOT save.\n",
      "./1995/ipeds_data-ic9596_A.zip already exists. Did NOT save.\n",
      "./1995/ipeds_data-ic9596_A_Data_Stata.zip already exists. Did NOT save.\n",
      "./1995/ipeds_data-ic9596_A_SPS.zip already exists. Did NOT save.\n",
      "./1996/ipeds_1996_.html already exists. Did NOT save.\n",
      "./1996/ipeds_data-ic9697_A.zip already exists. Did NOT save.\n",
      "./1996/ipeds_data-ic9697_A_Data_Stata.zip already exists. Did NOT save.\n",
      "./1996/ipeds_data-ic9697_A_SPS.zip already exists. Did NOT save.\n",
      "\n",
      "!!! save directory1997 does NOT exist. please create\n",
      "\n",
      "./1998/ipeds_1998_.html already exists. Did NOT save.\n",
      "SAVING https://nces.ed.gov/ipeds/datacenter/data/IC98hdac.zip at local location: ./1998/ipeds_data-IC98hdac.zip\n",
      "SAVING https://nces.ed.gov/ipeds/datacenter/data/IC98hdac_Data_Stata.zip at local location: ./1998/ipeds_data-IC98hdac_Data_Stata.zip\n",
      "SAVING https://nces.ed.gov/ipeds/datacenter/data/IC98hdac_SPS.zip at local location: ./1998/ipeds_data-IC98hdac_SPS.zip\n",
      "fin.\n"
     ]
    }
   ],
   "source": [
    "# 3\n",
    "for year in years:\n",
    "    url = base_url+data_url+year_base+year+session_id \n",
    "    webpage = requests.get(url)\n",
    "    soup = BeautifulSoup(webpage.content, 'html.parser')\n",
    "\n",
    "\n",
    "    if os.path.isdir(\"./\"+year):\n",
    "        # notice output path has \"year\" as a variable indicating folders\n",
    "        output_path = \"./\"+year+\"/\"+save_prefix+year+\"_\"+\".html\"\n",
    "    \n",
    "        if os.path.exists(output_path):\n",
    "            print(output_path+\" already exists. Did NOT save.\")\n",
    "        else:\n",
    "            # saving the html file\n",
    "            print(\"saving \"+output_path)\n",
    "    \n",
    "            with open(output_path, 'wb') as file:\n",
    "                file.write(webpage.content) \n",
    "            \n",
    "        # saving files linked on original html page which meet file type requirement\n",
    "        for link in soup.find_all('a')[0:16]:\n",
    "            data_target = link.get('href')\n",
    "            # data_target[-3:]\n",
    "            if any(extension == data_target[-3:] for extension in file_type):\n",
    "                wget_url = base_url+data_target\n",
    "                wget_save = \"./\"+year+\"/\"+save_prefix+data_target.replace(\"/\",\"-\")\n",
    "    \n",
    "                if os.path.exists(wget_save):\n",
    "                    print(wget_save+\" already exists. Did NOT save.\")\n",
    "                else:\n",
    "                    print(\"SAVING \"+ wget_url+ \" at local location: \"+wget_save)\n",
    "                    wget.download(wget_url,wget_save)\n",
    "                    time.sleep(.25) # be kind, don't look like a DDOS attack\n",
    "    else:\n",
    "        print(\"\\n!!! save directory \"+year+\" does NOT exist. please create\\n\")\n",
    "    \n",
    "    \n",
    "print(\"fin.\")\n",
    "\n",
    "    "
   ]
  },
  {
   "cell_type": "code",
   "execution_count": null,
   "id": "100e233f-045b-4ab9-b514-f1f00c397b52",
   "metadata": {},
   "outputs": [],
   "source": []
  },
  {
   "cell_type": "code",
   "execution_count": null,
   "id": "7a8736df-a299-439e-b9d1-9f6bc6c98e8d",
   "metadata": {},
   "outputs": [],
   "source": []
  }
 ],
 "metadata": {
  "kernelspec": {
   "display_name": "Python 3 (ipykernel)",
   "language": "python",
   "name": "python3"
  },
  "language_info": {
   "codemirror_mode": {
    "name": "ipython",
    "version": 3
   },
   "file_extension": ".py",
   "mimetype": "text/x-python",
   "name": "python",
   "nbconvert_exporter": "python",
   "pygments_lexer": "ipython3",
   "version": "3.12.8"
  }
 },
 "nbformat": 4,
 "nbformat_minor": 5
}
