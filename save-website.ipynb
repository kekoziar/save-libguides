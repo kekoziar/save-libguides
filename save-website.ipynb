{
 "cells": [
  {
   "cell_type": "code",
   "execution_count": null,
   "id": "df725b0e-0159-4c0c-87ad-46f854039029",
   "metadata": {},
   "outputs": [],
   "source": [
    "# 0\n",
    "# if you haven't installed wget, uncomment the below command and run this cell\n",
    "#!pip install wget"
   ]
  },
  {
   "cell_type": "code",
   "execution_count": 65,
   "id": "531f1985-c045-485e-b92f-beaca215c168",
   "metadata": {},
   "outputs": [],
   "source": [
    "# 1\n",
    "import requests\n",
    "from bs4 import BeautifulSoup\n",
    "from datetime import datetime as dt\n",
    "import time\n",
    "import wget\n",
    "import os"
   ]
  },
  {
   "cell_type": "code",
   "execution_count": 66,
   "id": "57396ec8-bdb0-4c0c-9136-11eda975646d",
   "metadata": {},
   "outputs": [],
   "source": [
    "# 2\n",
    "####\n",
    "# where are you scraping?\n",
    "base_url = \"https://guides.library.fresnostate.edu/agbs120\"\n",
    "# data_url = \"DataFiles.aspx?\"\n",
    "# year_base = \"year=\"\n",
    "# years = [\"1995\", \"1996\", \"1997\", \"1998\"]\n",
    "# session_id = \"&sid=4f8f293f-df75-42cd-9cc0-ed184270cf17&rtid=7\"  #you might need to change this\n",
    "\n",
    "####\n",
    "# what do you want to save?  Files or website?\n",
    "\n",
    "####\n",
    "# what type of files do you want to save?\n",
    "# file_type = [\"zip\",\"csv\", \"pdf\", \"xlsx\"]\n",
    "\n",
    "####\n",
    "# where do you want to save locally?\n",
    "\n",
    "# save_loc is redundant, but a reminder that you should have locally folders that reflect the years, because that's where below is saving to\n",
    "save_loc = \"libguides\" \n",
    "\n",
    "# what kind of prefix do you want on your files\n",
    "save_prefix = \"libguides_\" "
   ]
  },
  {
   "cell_type": "code",
   "execution_count": 8,
   "id": "3850fca0-90b4-40cc-9b85-a5f422d77484",
   "metadata": {},
   "outputs": [],
   "source": [
    "url = base_url\n",
    "webpage = requests.get(url)\n",
    "soup = BeautifulSoup(webpage.content, 'html.parser')"
   ]
  },
  {
   "cell_type": "code",
   "execution_count": 12,
   "id": "de9c84fa-011b-4204-8682-e7549982cd8f",
   "metadata": {},
   "outputs": [
    {
     "name": "stdout",
     "output_type": "stream",
     "text": [
      "#s-lg-guide-main\n",
      "#footer\n",
      "https://library.fresnostate.edu\n",
      "https://library.fresnostate.edu/\n",
      "https://guides.library.fresnostate.edu/\n",
      "https://guides.library.fresnostate.edu/agbs120\n",
      "https://guides.library.fresnostate.edu/c.php?g=289058&p=1928695\n",
      "https://guides.library.fresnostate.edu/c.php?g=289058&p=1927793\n",
      "https://guides.library.fresnostate.edu/c.php?g=289058&p=1927794\n",
      "https://guides.library.fresnostate.edu/c.php?g=289058&p=10492451\n",
      "https://guides.library.fresnostate.edu/c.php?g=289150&p=1927950\n",
      "https://guides.library.fresnostate.edu/industry\n",
      "https://guides.library.fresnostate.edu/c.php?g=289139&p=1927921\n",
      "https://guides.library.fresnostate.edu/c.php?g=289139&p=1928641\n",
      "https://guides.library.fresnostate.edu/c.php?g=289150&p=5681693\n",
      "https://guides.library.fresnostate.edu/citationhelp\n"
     ]
    }
   ],
   "source": [
    "for link in soup.find_all('a')[0:16]:\n",
    "    data_target = link.get('href')\n",
    "    print(data_target)\n"
   ]
  },
  {
   "cell_type": "code",
   "execution_count": 88,
   "id": "aee00e5e-4502-4e02-8ddd-6f4392fa0602",
   "metadata": {},
   "outputs": [],
   "source": [
    "urls_saved = [] "
   ]
  },
  {
   "cell_type": "code",
   "execution_count": 98,
   "id": "b020bcb1-9c47-4ef2-89c4-a4d65eb661e8",
   "metadata": {},
   "outputs": [
    {
     "name": "stdout",
     "output_type": "stream",
     "text": [
      "in saved, do nothing\n",
      "in saved, do nothing\n",
      "in saved, do nothing\n",
      "fin.\n"
     ]
    }
   ],
   "source": [
    "for link in soup.find_all('a')[0:7]:\n",
    "    data_target = link.get('href')\n",
    "#    print(data_target)\n",
    "    if (\"guides.library.fresnostate.edu\") in data_target:\n",
    "#        print(\"is libguide\", data_target)\n",
    "        if data_target[-1]==\"/\":\n",
    "#            print(\"strip char\")\n",
    "            data_target = data_target[:-1]\n",
    "            \n",
    "        if data_target in urls_saved:\n",
    "            print(\"in saved, do nothing\") \n",
    "        else:\n",
    "            wget_url = data_target\n",
    "            wget_save = \"./libguides/\"+save_prefix+data_target.replace(\"https://guides.library.fresnostate.edu\",\"\").replace(\"/c.php?g=\",\"\").replace(\"/\",\"\").replace(\"&p=\",\"p_\")\n",
    "            if not((wget_save[-3:]==\"htm\") or (wget_save[-4:]==\"html\")):\n",
    "                wget_save = wget_save+\".html\"\n",
    "            \n",
    "            if os.path.exists(wget_save):\n",
    "                print(wget_save+\" already exists. Did NOT save.\")\n",
    "            else:\n",
    "                print(\"SAVING \"+ wget_url+ \" at local location: \"+wget_save)\n",
    "                wget.download(wget_url,wget_save)\n",
    "                time.sleep(.25) # be kind, don't look like a DDOS attack\n",
    "                urls_saved.append(data_target)\n",
    "\n",
    "print(\"fin.\")"
   ]
  },
  {
   "cell_type": "code",
   "execution_count": 97,
   "id": "26ee14c1-31cf-493c-a2b1-59f2b4c8111f",
   "metadata": {},
   "outputs": [
    {
     "data": {
      "text/plain": [
       "['https://guides.library.fresnostate.edu',\n",
       " 'https://guides.library.fresnostate.edu/agbs120',\n",
       " 'https://guides.library.fresnostate.edu/c.php?g=289058&p=1928695']"
      ]
     },
     "execution_count": 97,
     "metadata": {},
     "output_type": "execute_result"
    }
   ],
   "source": [
    "urls_saved"
   ]
  },
  {
   "cell_type": "code",
   "execution_count": 35,
   "id": "82b3793c-3c8b-4dd2-bbac-e285a6179060",
   "metadata": {},
   "outputs": [
    {
     "data": {
      "text/plain": [
       "'https://guides.library.fresnostate.edu/c.php?g=289058&p=192869'"
      ]
     },
     "execution_count": 35,
     "metadata": {},
     "output_type": "execute_result"
    }
   ],
   "source": [
    "data_target[:-1]"
   ]
  },
  {
   "cell_type": "code",
   "execution_count": 43,
   "id": "af2614af-5fc4-458c-b3dd-28bf5227ecea",
   "metadata": {},
   "outputs": [],
   "source": [
    "with open('page_content.html', 'w') as fid:\n",
    "    fid.write(webpage.text)\n",
    "fid.close()"
   ]
  },
  {
   "cell_type": "code",
   "execution_count": 73,
   "id": "bea28a9e-34a2-4f0c-87f6-99f6b8e80870",
   "metadata": {},
   "outputs": [],
   "source": [
    "wget_url = data_target\n",
    "wget_save = \"./libguides/\"+save_prefix+data_target.replace(\"https://guides.library.fresnostate.edu/c.php?g=\",\"\").replace(\"&p=\",\"p_\")\n",
    "if not((wget_save[-3:]==\"htm\") or (wget_save[-4:]==\"html\")):\n",
    "    wget_save = wget_save+\".html\""
   ]
  },
  {
   "cell_type": "code",
   "execution_count": 74,
   "id": "2eebf168-be47-4fdd-b049-7f2cd1b2e5d3",
   "metadata": {},
   "outputs": [
    {
     "data": {
      "text/plain": [
       "'./libguides/libguides_289058p_1928695.html'"
      ]
     },
     "execution_count": 74,
     "metadata": {},
     "output_type": "execute_result"
    }
   ],
   "source": [
    "wget_save"
   ]
  },
  {
   "cell_type": "code",
   "execution_count": 75,
   "id": "97d08c07-aa3d-43b7-98a1-5e3f51c49217",
   "metadata": {},
   "outputs": [
    {
     "data": {
      "text/plain": [
       "'https://guides.library.fresnostate.edu/c.php?g=289058&p=1928695'"
      ]
     },
     "execution_count": 75,
     "metadata": {},
     "output_type": "execute_result"
    }
   ],
   "source": [
    "wget_url"
   ]
  },
  {
   "cell_type": "code",
   "execution_count": 77,
   "id": "ff76ffc3-b9c2-4df0-9b96-62089cd0244f",
   "metadata": {},
   "outputs": [
    {
     "data": {
      "text/plain": [
       "'./libguides/libguides_289058p_1928695.html'"
      ]
     },
     "execution_count": 77,
     "metadata": {},
     "output_type": "execute_result"
    }
   ],
   "source": [
    "wget.download(wget_url,wget_save)"
   ]
  },
  {
   "cell_type": "code",
   "execution_count": 13,
   "id": "3b72c7ed-d851-4422-b00c-2f90bab46ab8",
   "metadata": {
    "scrolled": true
   },
   "outputs": [
    {
     "name": "stdout",
     "output_type": "stream",
     "text": [
      "./1995/ipeds_1995_.html already exists. Did NOT save.\n",
      "./1995/ipeds_data-ic9596_A.zip already exists. Did NOT save.\n",
      "./1995/ipeds_data-ic9596_A_Data_Stata.zip already exists. Did NOT save.\n",
      "./1995/ipeds_data-ic9596_A_SPS.zip already exists. Did NOT save.\n",
      "./1996/ipeds_1996_.html already exists. Did NOT save.\n",
      "./1996/ipeds_data-ic9697_A.zip already exists. Did NOT save.\n",
      "./1996/ipeds_data-ic9697_A_Data_Stata.zip already exists. Did NOT save.\n",
      "./1996/ipeds_data-ic9697_A_SPS.zip already exists. Did NOT save.\n",
      "\n",
      "!!! save directory 1997 does NOT exist. please create\n",
      "\n",
      "./1998/ipeds_1998_.html already exists. Did NOT save.\n",
      "SAVING https://nces.ed.gov/ipeds/datacenter/data/IC98hdac.zip at local location: ./1998/ipeds_data-IC98hdac.zip\n",
      "SAVING https://nces.ed.gov/ipeds/datacenter/data/IC98hdac_Data_Stata.zip at local location: ./1998/ipeds_data-IC98hdac_Data_Stata.zip\n",
      "SAVING https://nces.ed.gov/ipeds/datacenter/data/IC98hdac_SPS.zip at local location: ./1998/ipeds_data-IC98hdac_SPS.zip\n",
      "fin.\n"
     ]
    }
   ],
   "source": [
    "# 3\n",
    "# second for loop has [0:16] at the end of range for testing.  delete range to save full list\n",
    "for year in years:\n",
    "    url = base_url+data_url+year_base+year+session_id \n",
    "    webpage = requests.get(url)\n",
    "    soup = BeautifulSoup(webpage.content, 'html.parser')\n",
    "\n",
    "\n",
    "    if os.path.isdir(\"./\"+year):\n",
    "        # notice output path has \"year\" as a variable indicating folders\n",
    "        output_path = \"./\"+year+\"/\"+save_prefix+year+\"_\"+\".html\"\n",
    "    \n",
    "        if os.path.exists(output_path):\n",
    "            print(output_path+\" already exists. Did NOT save.\")\n",
    "        else:\n",
    "            # saving the html file\n",
    "            print(\"saving \"+output_path)\n",
    "    \n",
    "            with open(output_path, 'wb') as file:\n",
    "                file.write(webpage.content) \n",
    "            \n",
    "        # saving files linked on original html page which meet file type requirement\n",
    "        for link in soup.find_all('a')[0:16]:  \n",
    "            data_target = link.get('href')\n",
    "            # data_target[-3:]\n",
    "            if any(extension == data_target[-3:] for extension in file_type):\n",
    "                wget_url = base_url+data_target\n",
    "                wget_save = \"./\"+year+\"/\"+save_prefix+data_target.replace(\"/\",\"-\")\n",
    "    \n",
    "                if os.path.exists(wget_save):\n",
    "                    print(wget_save+\" already exists. Did NOT save.\")\n",
    "                else:\n",
    "                    print(\"SAVING \"+ wget_url+ \" at local location: \"+wget_save)\n",
    "                    wget.download(wget_url,wget_save)\n",
    "                    time.sleep(.25) # be kind, don't look like a DDOS attack\n",
    "    else:\n",
    "        print(\"\\n!!! save directory \"+year+\" does NOT exist. please create\\n\")\n",
    "    \n",
    "    \n",
    "print(\"fin.\")\n",
    "\n",
    "    "
   ]
  },
  {
   "cell_type": "code",
   "execution_count": null,
   "id": "100e233f-045b-4ab9-b514-f1f00c397b52",
   "metadata": {},
   "outputs": [],
   "source": []
  },
  {
   "cell_type": "code",
   "execution_count": null,
   "id": "7a8736df-a299-439e-b9d1-9f6bc6c98e8d",
   "metadata": {},
   "outputs": [],
   "source": []
  }
 ],
 "metadata": {
  "kernelspec": {
   "display_name": "Python 3 (ipykernel)",
   "language": "python",
   "name": "python3"
  },
  "language_info": {
   "codemirror_mode": {
    "name": "ipython",
    "version": 3
   },
   "file_extension": ".py",
   "mimetype": "text/x-python",
   "name": "python",
   "nbconvert_exporter": "python",
   "pygments_lexer": "ipython3",
   "version": "3.12.8"
  }
 },
 "nbformat": 4,
 "nbformat_minor": 5
}
