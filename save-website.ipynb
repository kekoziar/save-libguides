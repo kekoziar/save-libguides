{
 "cells": [
  {
   "cell_type": "code",
   "execution_count": null,
   "id": "df725b0e-0159-4c0c-87ad-46f854039029",
   "metadata": {},
   "outputs": [],
   "source": [
    "# 0\n",
    "# if you haven't installed wget, uncomment the below command and run this cell\n",
    "#!pip install wget"
   ]
  },
  {
   "cell_type": "code",
   "execution_count": 65,
   "id": "531f1985-c045-485e-b92f-beaca215c168",
   "metadata": {},
   "outputs": [],
   "source": [
    "# 1\n",
    "import requests\n",
    "from bs4 import BeautifulSoup\n",
    "from datetime import datetime as dt\n",
    "import time\n",
    "import wget\n",
    "import os"
   ]
  },
  {
   "cell_type": "code",
   "execution_count": 112,
   "id": "c17ec995-a2ad-4cb1-924f-b878de5cf671",
   "metadata": {},
   "outputs": [],
   "source": []
  },
  {
   "cell_type": "code",
   "execution_count": 113,
   "id": "5d6e0eea-49e8-4190-9c65-64c6a62534a6",
   "metadata": {},
   "outputs": [
    {
     "data": {
      "text/plain": [
       "['https://guides.library.fresnostate.edu/agbs120',\n",
       " 'https://guides.library.fresnostate.edu/agbs150',\n",
       " 'https://guides.library.fresnostate.edu/agri100h',\n",
       " 'https://guides.library.fresnostate.edu/agmarketing',\n",
       " 'https://guides.library.fresnostate.edu/agriculture',\n",
       " 'https://guides.library.fresnostate.edu/ama',\n",
       " 'https://guides.library.fresnostate.edu/animalsciences',\n",
       " 'https://guides.library.fresnostate.edu/armenianstudies',\n",
       " 'https://guides.library.fresnostate.edu/artanddesign',\n",
       " 'https://guides.library.fresnostate.edu/ai',\n",
       " 'https://guides.library.fresnostate.edu/becoming-a-librarian',\n",
       " 'https://guides.library.fresnostate.edu/c.php?g=289102',\n",
       " 'https://guides.library.fresnostate.edu/biol102',\n",
       " 'https://guides.library.fresnostate.edu/biology1a',\n",
       " 'https://guides.library.fresnostate.edu/biology',\n",
       " 'https://guides.library.fresnostate.edu/business',\n",
       " 'https://guides.library.fresnostate.edu/swot',\n",
       " 'https://guides.library.fresnostate.edu/califstats',\n",
       " 'https://guides.library.fresnostate.edu/calregs',\n",
       " 'https://guides.library.fresnostate.edu/career',\n",
       " 'https://guides.library.fresnostate.edu/census',\n",
       " 'https://guides.library.fresnostate.edu/chem129b',\n",
       " 'https://guides.library.fresnostate.edu/chem3a',\n",
       " 'https://guides.library.fresnostate.edu/chembiochem',\n",
       " 'https://guides.library.fresnostate.edu/childfamily',\n",
       " 'https://guides.library.fresnostate.edu/childlit',\n",
       " 'https://guides.library.fresnostate.edu/citationhelp',\n",
       " 'https://guides.library.fresnostate.edu/cleanwater',\n",
       " 'https://guides.library.fresnostate.edu/JAWWII',\n",
       " 'https://guides.library.fresnostate.edu/communication',\n",
       " 'https://guides.library.fresnostate.edu/comm-sci-deaf-studies',\n",
       " 'https://guides.library.fresnostate.edu/company',\n",
       " 'https://guides.library.fresnostate.edu/crs',\n",
       " 'https://guides.library.fresnostate.edu/demo',\n",
       " 'https://guides.library.fresnostate.edu/copyright',\n",
       " 'https://guides.library.fresnostate.edu/couns',\n",
       " 'https://guides.library.fresnostate.edu/covid-19',\n",
       " 'https://guides.library.fresnostate.edu/crim',\n",
       " 'https://guides.library.fresnostate.edu/csm-bond',\n",
       " 'https://guides.library.fresnostate.edu/csm-rise-lsamp',\n",
       " 'https://guides.library.fresnostate.edu/diseases',\n",
       " 'https://guides.library.fresnostate.edu/diversitydisplay',\n",
       " 'https://guides.library.fresnostate.edu/DA',\n",
       " 'https://guides.library.fresnostate.edu/ees',\n",
       " 'https://guides.library.fresnostate.edu/ebooks',\n",
       " 'https://guides.library.fresnostate.edu/econ123',\n",
       " 'https://guides.library.fresnostate.edu/econ40',\n",
       " 'https://guides.library.fresnostate.edu/econ50',\n",
       " 'https://guides.library.fresnostate.edu/economics',\n",
       " 'https://guides.library.fresnostate.edu/edresearch',\n",
       " 'https://guides.library.fresnostate.edu/EDL-EdD',\n",
       " 'https://guides.library.fresnostate.edu/EESbooks',\n",
       " 'https://guides.library.fresnostate.edu/engineering',\n",
       " 'https://guides.library.fresnostate.edu/English160W',\n",
       " 'https://guides.library.fresnostate.edu/enol110',\n",
       " 'https://guides.library.fresnostate.edu/entr',\n",
       " 'https://guides.library.fresnostate.edu/c.php?g=1104491',\n",
       " 'https://guides.library.fresnostate.edu/fm',\n",
       " 'https://guides.library.fresnostate.edu/publish',\n",
       " 'https://guides.library.fresnostate.edu/first-year-research',\n",
       " 'https://guides.library.fresnostate.edu/fsn',\n",
       " 'https://guides.library.fresnostate.edu/local-resources',\n",
       " 'https://guides.library.fresnostate.edu/fresnoresearch',\n",
       " 'https://guides.library.fresnostate.edu/fsc120',\n",
       " 'https://guides.library.fresnostate.edu/fsc178',\n",
       " 'https://guides.library.fresnostate.edu/geog160',\n",
       " 'https://guides.library.fresnostate.edu/geologicmaps',\n",
       " 'https://guides.library.fresnostate.edu/govinfocollections',\n",
       " 'https://guides.library.fresnostate.edu/govwebsites',\n",
       " 'https://guides.library.fresnostate.edu/grants',\n",
       " 'https://guides.library.fresnostate.edu/graphic-medicine',\n",
       " 'https://guides.library.fresnostate.edu/graphicnovels',\n",
       " 'https://guides.library.fresnostate.edu/health-interact-media',\n",
       " 'https://guides.library.fresnostate.edu/health-stats',\n",
       " 'https://guides.library.fresnostate.edu/historicaldocuments',\n",
       " 'https://guides.library.fresnostate.edu/100fields',\n",
       " 'https://guides.library.fresnostate.edu/fields',\n",
       " 'https://guides.library.fresnostate.edu/history',\n",
       " 'https://guides.library.fresnostate.edu/holodomor',\n",
       " 'https://guides.library.fresnostate.edu/syllabus',\n",
       " 'https://guides.library.fresnostate.edu/IndustrialTechnology',\n",
       " 'https://guides.library.fresnostate.edu/industry',\n",
       " 'https://guides.library.fresnostate.edu/ibusiness',\n",
       " 'https://guides.library.fresnostate.edu/IEW',\n",
       " 'https://guides.library.fresnostate.edu/investment',\n",
       " 'https://guides.library.fresnostate.edu/ipums',\n",
       " 'https://guides.library.fresnostate.edu/current-projects',\n",
       " 'https://guides.library.fresnostate.edu/kinesiology',\n",
       " 'https://guides.library.fresnostate.edu/LGBTQ-Collections',\n",
       " 'https://guides.library.fresnostate.edu/lgbtq',\n",
       " 'https://guides.library.fresnostate.edu/transfer',\n",
       " 'https://guides.library.fresnostate.edu/linking',\n",
       " 'https://guides.library.fresnostate.edu/litreviews',\n",
       " 'https://guides.library.fresnostate.edu/english',\n",
       " 'https://guides.library.fresnostate.edu/c.php?g=289188',\n",
       " 'https://guides.library.fresnostate.edu/mapcollections',\n",
       " 'https://guides.library.fresnostate.edu/market',\n",
       " 'https://guides.library.fresnostate.edu/marketing',\n",
       " 'https://guides.library.fresnostate.edu/MBA',\n",
       " 'https://guides.library.fresnostate.edu/mcj',\n",
       " 'https://guides.library.fresnostate.edu/MCLL',\n",
       " 'https://guides.library.fresnostate.edu/moneysmartweek',\n",
       " 'https://guides.library.fresnostate.edu/music170a',\n",
       " 'https://guides.library.fresnostate.edu/music171',\n",
       " 'https://guides.library.fresnostate.edu/music176t',\n",
       " 'https://guides.library.fresnostate.edu/music220',\n",
       " 'https://guides.library.fresnostate.edu/music260T',\n",
       " 'https://guides.library.fresnostate.edu/nursing',\n",
       " 'https://guides.library.fresnostate.edu/nutr160',\n",
       " 'https://guides.library.fresnostate.edu/onesearch',\n",
       " 'https://guides.library.fresnostate.edu/openaccess',\n",
       " 'https://guides.library.fresnostate.edu/oer',\n",
       " 'https://guides.library.fresnostate.edu/health-info-access-mgt',\n",
       " 'https://guides.library.fresnostate.edu/photographsslides',\n",
       " 'https://guides.library.fresnostate.edu/physical-therapy',\n",
       " 'https://guides.library.fresnostate.edu/plant105',\n",
       " 'https://guides.library.fresnostate.edu/plantsci',\n",
       " 'https://guides.library.fresnostate.edu/cvpa',\n",
       " 'https://guides.library.fresnostate.edu/politicalscience',\n",
       " 'https://guides.library.fresnostate.edu/brady',\n",
       " 'https://guides.library.fresnostate.edu/posters',\n",
       " 'https://guides.library.fresnostate.edu/presidential',\n",
       " 'https://guides.library.fresnostate.edu/primarysources',\n",
       " 'https://guides.library.fresnostate.edu/psycresearch',\n",
       " 'https://guides.library.fresnostate.edu/public-health',\n",
       " 'https://guides.library.fresnostate.edu/RealEstate',\n",
       " 'https://guides.library.fresnostate.edu/recreation-adm',\n",
       " 'https://guides.library.fresnostate.edu/memorial',\n",
       " 'https://guides.library.fresnostate.edu/reproducible',\n",
       " 'https://guides.library.fresnostate.edu/checkout',\n",
       " 'https://guides.library.fresnostate.edu/c.php?g=822305',\n",
       " 'https://guides.library.fresnostate.edu/scholarworks_rtp',\n",
       " 'https://guides.library.fresnostate.edu/scifinder-n',\n",
       " 'https://guides.library.fresnostate.edu/ethnic_studies',\n",
       " 'https://guides.library.fresnostate.edu/c.php?g=737753',\n",
       " 'https://guides.library.fresnostate.edu/disability',\n",
       " 'https://guides.library.fresnostate.edu/social-work',\n",
       " 'https://guides.library.fresnostate.edu/sociologyguide',\n",
       " 'https://guides.library.fresnostate.edu/SolutionsHub',\n",
       " 'https://guides.library.fresnostate.edu/special_collections',\n",
       " 'https://guides.library.fresnostate.edu/special-collections',\n",
       " 'https://guides.library.fresnostate.edu/streamingvideo',\n",
       " 'https://guides.library.fresnostate.edu/support-undocumented-students',\n",
       " 'https://guides.library.fresnostate.edu/taxforms',\n",
       " 'https://guides.library.fresnostate.edu/technicalwriting',\n",
       " 'https://guides.library.fresnostate.edu/fye',\n",
       " 'https://guides.library.fresnostate.edu/gradstudents',\n",
       " 'https://guides.library.fresnostate.edu/calleg',\n",
       " 'https://guides.library.fresnostate.edu/fedleg',\n",
       " 'https://guides.library.fresnostate.edu/fedregs',\n",
       " 'https://guides.library.fresnostate.edu/c.php?g=717548',\n",
       " 'https://guides.library.fresnostate.edu/c.php?g=1119799',\n",
       " 'https://guides.library.fresnostate.edu/vit196',\n",
       " 'https://guides.library.fresnostate.edu/vitenol',\n",
       " 'https://guides.library.fresnostate.edu/ws',\n",
       " 'https://guides.library.fresnostate.edu/worlds-fairs',\n",
       " 'https://guides.library.fresnostate.edu/zotero',\n",
       " '']"
      ]
     },
     "execution_count": 113,
     "metadata": {},
     "output_type": "execute_result"
    }
   ],
   "source": [
    "urls"
   ]
  },
  {
   "cell_type": "code",
   "execution_count": 66,
   "id": "57396ec8-bdb0-4c0c-9136-11eda975646d",
   "metadata": {},
   "outputs": [],
   "source": [
    "# 2\n",
    "####\n",
    "# where are you scraping?\n",
    "# urls = \"https://guides.library.fresnostate.edu/agbs120\" # if using individual website\n",
    "\n",
    "## if list of URLs\n",
    "# Open the file in read mode\n",
    "with open('libguides-url-list.txt', 'r') as file:\n",
    "    urls = file.read()\n",
    "file.close()    \n",
    "urls = urls.split('\\n')\n",
    "\n",
    "\n",
    "####\n",
    "# where do you want to save locally?\n",
    "\n",
    "# save_loc is redundant, but a reminder that you should have locally folders that reflect the years, because that's where below is saving to\n",
    "save_loc = \"libguides\" \n",
    "\n",
    "# what kind of prefix do you want on your files\n",
    "save_prefix = \"libguides_\" "
   ]
  },
  {
   "cell_type": "code",
   "execution_count": 115,
   "id": "3850fca0-90b4-40cc-9b85-a5f422d77484",
   "metadata": {},
   "outputs": [],
   "source": [
    "urls_saved = [] "
   ]
  },
  {
   "cell_type": "code",
   "execution_count": 118,
   "id": "de9c84fa-011b-4204-8682-e7549982cd8f",
   "metadata": {},
   "outputs": [
    {
     "name": "stdout",
     "output_type": "stream",
     "text": [
      "in saved, do nothing1\n",
      "in saved, do nothing2\n",
      "in saved, do nothing2\n",
      "in saved, do nothing2\n",
      "in saved, do nothing2\n",
      "in saved, do nothing2\n",
      "in saved, do nothing2\n",
      "in saved, do nothing2\n",
      "in saved, do nothing2\n",
      "in saved, do nothing2\n",
      "in saved, do nothing2\n",
      "in saved, do nothing2\n",
      "in saved, do nothing2\n",
      "in saved, do nothing1\n",
      "in saved, do nothing2\n",
      "in saved, do nothing2\n",
      "in saved, do nothing2\n",
      "in saved, do nothing2\n",
      "in saved, do nothing2\n",
      "in saved, do nothing2\n",
      "in saved, do nothing2\n",
      "in saved, do nothing2\n",
      "in saved, do nothing2\n",
      "in saved, do nothing2\n",
      "in saved, do nothing2\n",
      "fin.\n"
     ]
    }
   ],
   "source": [
    "for url in urls[0:2]:\n",
    "    if url in urls_saved:\n",
    "        print(\"in saved, do nothing1\")\n",
    "    else:\n",
    "        webpage = requests.get(url)\n",
    "        soup = BeautifulSoup(webpage.content, 'html.parser')\n",
    "        for link in soup.find_all('a')[0:16]:\n",
    "            data_target = link.get('href')\n",
    "    #        print(data_target)\n",
    "            time.sleep(.25) # be kind, don't look like a DDOS attack\n",
    "            if (\"guides.library.fresnostate.edu\") in data_target:\n",
    "        #        print(\"is libguide\", data_target)\n",
    "                if data_target[-1]==\"/\":\n",
    "        #            print(\"strip char\")\n",
    "                    data_target = data_target[:-1]\n",
    "                    \n",
    "                if data_target in urls_saved:\n",
    "                    print(\"in saved, do nothing2\") \n",
    "                else:\n",
    "                    if (\"prf.php\" in data_target) or (\"sb.php\" in data_target) or (\"database/\" in data_target) or (\"srch.php\" in data_target):\n",
    "                        print(\"profile/subject/database page, do nothing:\", data_target)\n",
    "                    else:\n",
    "                        urls_saved.append(data_target)\n",
    "                        wget_url = data_target\n",
    "                        wget_save = \"./libguides/\"+save_prefix+data_target.replace(\"https://guides.library.fresnostate.edu\",\"\").replace(\"/c.php?g=\",\"\").replace(\"/\",\"\").replace(\"&p=\",\"p_\")\n",
    "                        if not((wget_save[-3:]==\"htm\") or (wget_save[-4:]==\"html\")):\n",
    "                            wget_save = wget_save+\".html\"\n",
    "                        \n",
    "                        if os.path.exists(wget_save):\n",
    "                            print(wget_save+\" already exists. Did NOT save.\")\n",
    "                        else:\n",
    "                            print(\"SAVING \"+ wget_url+ \" at local location: \"+wget_save)\n",
    "                            wget.download(wget_url,wget_save)\n",
    "                            time.sleep(.25) # be kind, don't look like a DDOS attack\n",
    "\n",
    "print(\"fin.\")"
   ]
  },
  {
   "cell_type": "code",
   "execution_count": 88,
   "id": "aee00e5e-4502-4e02-8ddd-6f4392fa0602",
   "metadata": {},
   "outputs": [],
   "source": [
    "urls_saved = [] "
   ]
  },
  {
   "cell_type": "code",
   "execution_count": 105,
   "id": "b020bcb1-9c47-4ef2-89c4-a4d65eb661e8",
   "metadata": {},
   "outputs": [
    {
     "name": "stdout",
     "output_type": "stream",
     "text": [
      "in saved, do nothing\n",
      "in saved, do nothing\n",
      "in saved, do nothing\n",
      "in saved, do nothing\n",
      "in saved, do nothing\n",
      "in saved, do nothing\n",
      "in saved, do nothing\n",
      "in saved, do nothing\n",
      "in saved, do nothing\n",
      "in saved, do nothing\n",
      "in saved, do nothing\n",
      "in saved, do nothing\n",
      "in saved, do nothing\n",
      "profile/subject/database page, do nothing: //guides.library.fresnostate.edu/prf.php?id=592a381f-7cdb-11ed-9922-0ad758b798c3\n",
      "profile/subject/database page, do nothing: https://guides.library.fresnostate.edu/sb.php?subject_id=58523\n",
      "profile/subject/database page, do nothing: https://guides.library.fresnostate.edu/sb.php?subject_id=58539\n",
      "in saved, do nothing\n",
      "profile/subject/database page, do nothing: https://guides.library.fresnostate.edu/database/data-axle-reference-solutions\n",
      "profile/subject/database page, do nothing: https://guides.library.fresnostate.edu/database/checkpoint-edge\n",
      "profile/subject/database page, do nothing: https://guides.library.fresnostate.edu/database/privco\n",
      "profile/subject/database page, do nothing: https://guides.library.fresnostate.edu/database/business-source-ultimate\n",
      "profile/subject/database page, do nothing: https://guides.library.fresnostate.edu/database/mergent-intellect\n",
      "profile/subject/database page, do nothing: https://guides.library.fresnostate.edu/database/gale-ebooks\n",
      "in saved, do nothing\n",
      "profile/subject/database page, do nothing: https://guides.library.fresnostate.edu/sb.php?subject_id=58506\n",
      "profile/subject/database page, do nothing: https://guides.library.fresnostate.edu/srch.php?tag=agbs120&default_lg=1\n",
      "profile/subject/database page, do nothing: https://guides.library.fresnostate.edu/srch.php?tag=agribusiness&default_lg=1\n",
      "profile/subject/database page, do nothing: https://guides.library.fresnostate.edu/srch.php?tag=agricultural_business&default_lg=1\n",
      "profile/subject/database page, do nothing: https://guides.library.fresnostate.edu/srch.php?tag=business&default_lg=1\n",
      "profile/subject/database page, do nothing: https://guides.library.fresnostate.edu/srch.php?tag=xu&default_lg=1\n",
      "fin.\n"
     ]
    }
   ],
   "source": [
    "for link in soup.find_all('a'):\n",
    "    data_target = link.get('href')\n",
    "#    print(data_target)\n",
    "    if (\"guides.library.fresnostate.edu\") in data_target:\n",
    "#        print(\"is libguide\", data_target)\n",
    "        if data_target[-1]==\"/\":\n",
    "#            print(\"strip char\")\n",
    "            data_target = data_target[:-1]\n",
    "            \n",
    "        if data_target in urls_saved:\n",
    "            print(\"in saved, do nothing\") \n",
    "        else:\n",
    "            if (\"prf.php\" in data_target) or (\"sb.php\" in data_target) or (\"database/\" in data_target) or (\"srch.php\" in data_target):\n",
    "                print(\"profile/subject/database page, do nothing:\", data_target)\n",
    "            else:\n",
    "                wget_url = data_target\n",
    "                wget_save = \"./libguides/\"+save_prefix+data_target.replace(\"https://guides.library.fresnostate.edu\",\"\").replace(\"/c.php?g=\",\"\").replace(\"/\",\"\").replace(\"&p=\",\"p_\")\n",
    "                if not((wget_save[-3:]==\"htm\") or (wget_save[-4:]==\"html\")):\n",
    "                    wget_save = wget_save+\".html\"\n",
    "                \n",
    "                if os.path.exists(wget_save):\n",
    "                    print(wget_save+\" already exists. Did NOT save.\")\n",
    "                else:\n",
    "                    print(\"SAVING \"+ wget_url+ \" at local location: \"+wget_save)\n",
    "                    wget.download(wget_url,wget_save)\n",
    "                    time.sleep(.25) # be kind, don't look like a DDOS attack\n",
    "                    urls_saved.append(data_target)\n",
    "\n",
    "print(\"fin.\")"
   ]
  },
  {
   "cell_type": "code",
   "execution_count": 97,
   "id": "26ee14c1-31cf-493c-a2b1-59f2b4c8111f",
   "metadata": {},
   "outputs": [
    {
     "data": {
      "text/plain": [
       "['https://guides.library.fresnostate.edu',\n",
       " 'https://guides.library.fresnostate.edu/agbs120',\n",
       " 'https://guides.library.fresnostate.edu/c.php?g=289058&p=1928695']"
      ]
     },
     "execution_count": 97,
     "metadata": {},
     "output_type": "execute_result"
    }
   ],
   "source": [
    "urls_saved"
   ]
  },
  {
   "cell_type": "code",
   "execution_count": 101,
   "id": "82b3793c-3c8b-4dd2-bbac-e285a6179060",
   "metadata": {},
   "outputs": [
    {
     "data": {
      "text/plain": [
       "'//guides.library.fresnostate.edu/prf.php?id=592a381f-7cdb-11ed-9922-0ad758b798c3'"
      ]
     },
     "execution_count": 101,
     "metadata": {},
     "output_type": "execute_result"
    }
   ],
   "source": [
    "data_target"
   ]
  },
  {
   "cell_type": "code",
   "execution_count": 43,
   "id": "af2614af-5fc4-458c-b3dd-28bf5227ecea",
   "metadata": {},
   "outputs": [],
   "source": [
    "with open('page_content.html', 'w') as fid:\n",
    "    fid.write(webpage.text)\n",
    "fid.close()"
   ]
  },
  {
   "cell_type": "code",
   "execution_count": 73,
   "id": "bea28a9e-34a2-4f0c-87f6-99f6b8e80870",
   "metadata": {},
   "outputs": [],
   "source": [
    "wget_url = data_target\n",
    "wget_save = \"./libguides/\"+save_prefix+data_target.replace(\"https://guides.library.fresnostate.edu/c.php?g=\",\"\").replace(\"&p=\",\"p_\")\n",
    "if not((wget_save[-3:]==\"htm\") or (wget_save[-4:]==\"html\")):\n",
    "    wget_save = wget_save+\".html\""
   ]
  },
  {
   "cell_type": "code",
   "execution_count": 74,
   "id": "2eebf168-be47-4fdd-b049-7f2cd1b2e5d3",
   "metadata": {},
   "outputs": [
    {
     "data": {
      "text/plain": [
       "'./libguides/libguides_289058p_1928695.html'"
      ]
     },
     "execution_count": 74,
     "metadata": {},
     "output_type": "execute_result"
    }
   ],
   "source": [
    "wget_save"
   ]
  },
  {
   "cell_type": "code",
   "execution_count": 75,
   "id": "97d08c07-aa3d-43b7-98a1-5e3f51c49217",
   "metadata": {},
   "outputs": [
    {
     "data": {
      "text/plain": [
       "'https://guides.library.fresnostate.edu/c.php?g=289058&p=1928695'"
      ]
     },
     "execution_count": 75,
     "metadata": {},
     "output_type": "execute_result"
    }
   ],
   "source": [
    "wget_url"
   ]
  },
  {
   "cell_type": "code",
   "execution_count": 77,
   "id": "ff76ffc3-b9c2-4df0-9b96-62089cd0244f",
   "metadata": {},
   "outputs": [
    {
     "data": {
      "text/plain": [
       "'./libguides/libguides_289058p_1928695.html'"
      ]
     },
     "execution_count": 77,
     "metadata": {},
     "output_type": "execute_result"
    }
   ],
   "source": [
    "wget.download(wget_url,wget_save)"
   ]
  },
  {
   "cell_type": "code",
   "execution_count": 13,
   "id": "3b72c7ed-d851-4422-b00c-2f90bab46ab8",
   "metadata": {
    "scrolled": true
   },
   "outputs": [
    {
     "name": "stdout",
     "output_type": "stream",
     "text": [
      "./1995/ipeds_1995_.html already exists. Did NOT save.\n",
      "./1995/ipeds_data-ic9596_A.zip already exists. Did NOT save.\n",
      "./1995/ipeds_data-ic9596_A_Data_Stata.zip already exists. Did NOT save.\n",
      "./1995/ipeds_data-ic9596_A_SPS.zip already exists. Did NOT save.\n",
      "./1996/ipeds_1996_.html already exists. Did NOT save.\n",
      "./1996/ipeds_data-ic9697_A.zip already exists. Did NOT save.\n",
      "./1996/ipeds_data-ic9697_A_Data_Stata.zip already exists. Did NOT save.\n",
      "./1996/ipeds_data-ic9697_A_SPS.zip already exists. Did NOT save.\n",
      "\n",
      "!!! save directory 1997 does NOT exist. please create\n",
      "\n",
      "./1998/ipeds_1998_.html already exists. Did NOT save.\n",
      "SAVING https://nces.ed.gov/ipeds/datacenter/data/IC98hdac.zip at local location: ./1998/ipeds_data-IC98hdac.zip\n",
      "SAVING https://nces.ed.gov/ipeds/datacenter/data/IC98hdac_Data_Stata.zip at local location: ./1998/ipeds_data-IC98hdac_Data_Stata.zip\n",
      "SAVING https://nces.ed.gov/ipeds/datacenter/data/IC98hdac_SPS.zip at local location: ./1998/ipeds_data-IC98hdac_SPS.zip\n",
      "fin.\n"
     ]
    }
   ],
   "source": [
    "# 3\n",
    "# second for loop has [0:16] at the end of range for testing.  delete range to save full list\n",
    "for year in years:\n",
    "    url = base_url+data_url+year_base+year+session_id \n",
    "    webpage = requests.get(url)\n",
    "    soup = BeautifulSoup(webpage.content, 'html.parser')\n",
    "\n",
    "\n",
    "    if os.path.isdir(\"./\"+year):\n",
    "        # notice output path has \"year\" as a variable indicating folders\n",
    "        output_path = \"./\"+year+\"/\"+save_prefix+year+\"_\"+\".html\"\n",
    "    \n",
    "        if os.path.exists(output_path):\n",
    "            print(output_path+\" already exists. Did NOT save.\")\n",
    "        else:\n",
    "            # saving the html file\n",
    "            print(\"saving \"+output_path)\n",
    "    \n",
    "            with open(output_path, 'wb') as file:\n",
    "                file.write(webpage.content) \n",
    "            \n",
    "        # saving files linked on original html page which meet file type requirement\n",
    "        for link in soup.find_all('a')[0:16]:  \n",
    "            data_target = link.get('href')\n",
    "            # data_target[-3:]\n",
    "            if any(extension == data_target[-3:] for extension in file_type):\n",
    "                wget_url = base_url+data_target\n",
    "                wget_save = \"./\"+year+\"/\"+save_prefix+data_target.replace(\"/\",\"-\")\n",
    "    \n",
    "                if os.path.exists(wget_save):\n",
    "                    print(wget_save+\" already exists. Did NOT save.\")\n",
    "                else:\n",
    "                    print(\"SAVING \"+ wget_url+ \" at local location: \"+wget_save)\n",
    "                    wget.download(wget_url,wget_save)\n",
    "                    time.sleep(.25) # be kind, don't look like a DDOS attack\n",
    "    else:\n",
    "        print(\"\\n!!! save directory \"+year+\" does NOT exist. please create\\n\")\n",
    "    \n",
    "    \n",
    "print(\"fin.\")\n",
    "\n",
    "    "
   ]
  },
  {
   "cell_type": "code",
   "execution_count": null,
   "id": "100e233f-045b-4ab9-b514-f1f00c397b52",
   "metadata": {},
   "outputs": [],
   "source": []
  },
  {
   "cell_type": "code",
   "execution_count": null,
   "id": "7a8736df-a299-439e-b9d1-9f6bc6c98e8d",
   "metadata": {},
   "outputs": [],
   "source": []
  }
 ],
 "metadata": {
  "kernelspec": {
   "display_name": "Python 3 (ipykernel)",
   "language": "python",
   "name": "python3"
  },
  "language_info": {
   "codemirror_mode": {
    "name": "ipython",
    "version": 3
   },
   "file_extension": ".py",
   "mimetype": "text/x-python",
   "name": "python",
   "nbconvert_exporter": "python",
   "pygments_lexer": "ipython3",
   "version": "3.12.8"
  }
 },
 "nbformat": 4,
 "nbformat_minor": 5
}
